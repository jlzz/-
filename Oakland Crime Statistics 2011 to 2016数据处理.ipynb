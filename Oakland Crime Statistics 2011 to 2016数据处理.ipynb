{
 "cells": [
  {
   "cell_type": "markdown",
   "id": "e81dda33",
   "metadata": {},
   "source": [
    "## Oakland Crime Statistics 2011 to 2016数据处理\n",
    "\n",
    "导入处理数据和绘图相关的包"
   ]
  },
  {
   "cell_type": "code",
   "execution_count": 1,
   "id": "f67c7abe",
   "metadata": {},
   "outputs": [],
   "source": [
    "import pandas as pd\n",
    "import numpy as np\n",
    "import os\n",
    "import matplotlib.pyplot as plt\n",
    "from collections import Counter\n",
    "\n",
    "plt.rcParams[\"font.sans-serif\"]=[\"SimHei\"]\n",
    "plt.rcParams[\"axes.unicode_minus\"]=False"
   ]
  },
  {
   "cell_type": "markdown",
   "id": "07d36170",
   "metadata": {},
   "source": [
    "读取数据并查看前几条数据，虽然本数据集包含2011-2016的数据，这里只对2011的数据进行处理"
   ]
  },
  {
   "cell_type": "code",
   "execution_count": 2,
   "id": "3e0d93ae",
   "metadata": {},
   "outputs": [
    {
     "data": {
      "text/html": [
       "<div>\n",
       "<style scoped>\n",
       "    .dataframe tbody tr th:only-of-type {\n",
       "        vertical-align: middle;\n",
       "    }\n",
       "\n",
       "    .dataframe tbody tr th {\n",
       "        vertical-align: top;\n",
       "    }\n",
       "\n",
       "    .dataframe thead th {\n",
       "        text-align: right;\n",
       "    }\n",
       "</style>\n",
       "<table border=\"1\" class=\"dataframe\">\n",
       "  <thead>\n",
       "    <tr style=\"text-align: right;\">\n",
       "      <th></th>\n",
       "      <th>Agency</th>\n",
       "      <th>Create Time</th>\n",
       "      <th>Location</th>\n",
       "      <th>Area Id</th>\n",
       "      <th>Beat</th>\n",
       "      <th>Priority</th>\n",
       "      <th>Incident Type Id</th>\n",
       "      <th>Incident Type Description</th>\n",
       "      <th>Event Number</th>\n",
       "      <th>Closed Time</th>\n",
       "    </tr>\n",
       "  </thead>\n",
       "  <tbody>\n",
       "    <tr>\n",
       "      <th>0</th>\n",
       "      <td>OP</td>\n",
       "      <td>2011-01-01T00:00:00.000</td>\n",
       "      <td>ST&amp;SAN PABLO AV</td>\n",
       "      <td>1.0</td>\n",
       "      <td>06X</td>\n",
       "      <td>1.0</td>\n",
       "      <td>PDOA</td>\n",
       "      <td>POSSIBLE DEAD PERSON</td>\n",
       "      <td>LOP110101000001</td>\n",
       "      <td>2011-01-01T00:28:17.000</td>\n",
       "    </tr>\n",
       "    <tr>\n",
       "      <th>1</th>\n",
       "      <td>OP</td>\n",
       "      <td>2011-01-01T00:01:11.000</td>\n",
       "      <td>ST&amp;HANNAH ST</td>\n",
       "      <td>1.0</td>\n",
       "      <td>07X</td>\n",
       "      <td>1.0</td>\n",
       "      <td>415GS</td>\n",
       "      <td>415 GUNSHOTS</td>\n",
       "      <td>LOP110101000002</td>\n",
       "      <td>2011-01-01T01:12:56.000</td>\n",
       "    </tr>\n",
       "    <tr>\n",
       "      <th>2</th>\n",
       "      <td>OP</td>\n",
       "      <td>2011-01-01T00:01:25.000</td>\n",
       "      <td>ST&amp;MARKET ST</td>\n",
       "      <td>1.0</td>\n",
       "      <td>10Y</td>\n",
       "      <td>2.0</td>\n",
       "      <td>415GS</td>\n",
       "      <td>415 GUNSHOTS</td>\n",
       "      <td>LOP110101000003</td>\n",
       "      <td>2011-01-01T00:07:20.000</td>\n",
       "    </tr>\n",
       "    <tr>\n",
       "      <th>3</th>\n",
       "      <td>OP</td>\n",
       "      <td>2011-01-01T00:01:35.000</td>\n",
       "      <td>PRENTISS ST</td>\n",
       "      <td>2.0</td>\n",
       "      <td>21Y</td>\n",
       "      <td>2.0</td>\n",
       "      <td>415GS</td>\n",
       "      <td>415 GUNSHOTS</td>\n",
       "      <td>LOP110101000005</td>\n",
       "      <td>2011-01-01T00:02:28.000</td>\n",
       "    </tr>\n",
       "    <tr>\n",
       "      <th>4</th>\n",
       "      <td>OP</td>\n",
       "      <td>2011-01-01T00:02:10.000</td>\n",
       "      <td>AV&amp;FOOTHILL BLVD</td>\n",
       "      <td>2.0</td>\n",
       "      <td>20X</td>\n",
       "      <td>1.0</td>\n",
       "      <td>415GS</td>\n",
       "      <td>415 GUNSHOTS</td>\n",
       "      <td>LOP110101000004</td>\n",
       "      <td>2011-01-01T00:50:04.000</td>\n",
       "    </tr>\n",
       "  </tbody>\n",
       "</table>\n",
       "</div>"
      ],
      "text/plain": [
       "  Agency              Create Time            Location  Area Id Beat  Priority  \\\n",
       "0     OP  2011-01-01T00:00:00.000     ST&SAN PABLO AV      1.0  06X       1.0   \n",
       "1     OP  2011-01-01T00:01:11.000       ST&HANNAH ST       1.0  07X       1.0   \n",
       "2     OP  2011-01-01T00:01:25.000       ST&MARKET ST       1.0  10Y       2.0   \n",
       "3     OP  2011-01-01T00:01:35.000        PRENTISS ST       2.0  21Y       2.0   \n",
       "4     OP  2011-01-01T00:02:10.000   AV&FOOTHILL BLVD       2.0  20X       1.0   \n",
       "\n",
       "  Incident Type Id Incident Type Description     Event Number  \\\n",
       "0             PDOA      POSSIBLE DEAD PERSON  LOP110101000001   \n",
       "1            415GS              415 GUNSHOTS  LOP110101000002   \n",
       "2            415GS              415 GUNSHOTS  LOP110101000003   \n",
       "3            415GS              415 GUNSHOTS  LOP110101000005   \n",
       "4            415GS              415 GUNSHOTS  LOP110101000004   \n",
       "\n",
       "               Closed Time  \n",
       "0  2011-01-01T00:28:17.000  \n",
       "1  2011-01-01T01:12:56.000  \n",
       "2  2011-01-01T00:07:20.000  \n",
       "3  2011-01-01T00:02:28.000  \n",
       "4  2011-01-01T00:50:04.000  "
      ]
     },
     "execution_count": 2,
     "metadata": {},
     "output_type": "execute_result"
    }
   ],
   "source": [
    "df = pd.read_csv('crime/records-for-2011.csv')\n",
    "df.head()"
   ]
  },
  {
   "cell_type": "markdown",
   "id": "fa99f238",
   "metadata": {},
   "source": [
    "查看数据的总体信息"
   ]
  },
  {
   "cell_type": "code",
   "execution_count": 3,
   "id": "17f6d521",
   "metadata": {},
   "outputs": [
    {
     "name": "stdout",
     "output_type": "stream",
     "text": [
      "<class 'pandas.core.frame.DataFrame'>\n",
      "RangeIndex: 180016 entries, 0 to 180015\n",
      "Data columns (total 10 columns):\n",
      " #   Column                     Non-Null Count   Dtype  \n",
      "---  ------                     --------------   -----  \n",
      " 0   Agency                     180015 non-null  object \n",
      " 1   Create Time                180015 non-null  object \n",
      " 2   Location                   180016 non-null  object \n",
      " 3   Area Id                    179112 non-null  float64\n",
      " 4   Beat                       179496 non-null  object \n",
      " 5   Priority                   180015 non-null  float64\n",
      " 6   Incident Type Id           180015 non-null  object \n",
      " 7   Incident Type Description  180015 non-null  object \n",
      " 8   Event Number               180015 non-null  object \n",
      " 9   Closed Time                180009 non-null  object \n",
      "dtypes: float64(2), object(8)\n",
      "memory usage: 13.7+ MB\n"
     ]
    }
   ],
   "source": [
    "df.info()"
   ]
  },
  {
   "cell_type": "markdown",
   "id": "44ecff5c",
   "metadata": {},
   "source": [
    "### 1.数据可视化和摘要\n",
    "\n",
    "#### 1.1数据摘要\n",
    "遍历标称属性，输出频数，部分属性值过多，至多只输出频数前50的数据"
   ]
  },
  {
   "cell_type": "code",
   "execution_count": 4,
   "id": "dcb2f12e",
   "metadata": {},
   "outputs": [
    {
     "name": "stdout",
     "output_type": "stream",
     "text": [
      "Agency\n",
      " [('OP', 180015), ('nan', 1)]\n",
      "Location\n",
      " [(' INTERNATIONAL BLVD ', 3866), (' MACARTHUR BLVD ', 3129), (' AV&INTERNATIONAL BLVD ', 3067), (' BROADWAY  ', 2132), (' FOOTHILL BLVD ', 1791), (' TELEGRAPH AV ', 1584), (' BANCROFT AV ', 1319), (' SAN PABLO AV', 1272), (' FRUITVALE AV ', 1141), (' 7TH ST ', 1093), (' AV&MACARTHUR BLVD ', 1063), (' ST&BROADWAY  ', 1025), (' HEGENBERGER RD ', 1024), (' HARRISON ST ', 990), (' HIGH ST ', 987), (' ST&TELEGRAPH AV ', 984), (' 73RD AV ', 976), (' MARKET ST ', 840), (' 14TH ST ', 824), (' AV&FOOTHILL BLVD ', 761), (' WEBSTER ST ', 680), (' W MACARTHUR BLVD', 668), (' AV&BANCROFT AV ', 667), (' ST&MARTIN LUTHER KING', 666), (' ST&SAN PABLO AV', 664), (' E 18TH ST', 662), (' MARTIN LUTHER KING', 626), (' E 12TH ST', 616), (' ST&MARKET ST ', 614), (' EDGEWATER DR ', 611), (' 66TH AV ', 609), (' E 17TH ST', 599), (' 35TH AV ', 594), (' 8TH ST ', 593), (' GRAND AV ', 588), (' HAWTHORNE AV ', 587), (' 15TH ST ', 564), (' ADELINE ST ', 515), (' 82ND AV ', 499), (' 98TH AV ', 488), (' COOLIDGE AV ', 468), (' MOUNTAIN BLVD ', 463), (' BROOKDALE AV ', 448), (' WEST ST ', 447), (' SKYLINE BLVD ', 443), (' SAN LEANDRO ST', 437), (' LAKESHORE AV ', 432), (' FRANKLIN ST ', 431), (' E 31ST ST', 427), (' 39TH AV ', 426)]\n",
      "Area Id\n",
      " [(1.0, 79152), (2.0, 67261), (3.0, 32699), ('nan', 904)]\n",
      "Beat\n",
      " [('04X', 7410), ('08X', 6885), ('26Y', 5478), ('30Y', 5295), ('06X', 5119), ('23X', 5051), ('30X', 4956), ('19X', 4955), ('34X', 4673), ('29X', 4483), ('20X', 4287), ('27Y', 4159), ('07X', 4134), ('31Y', 4082), ('25X', 4022), ('35X', 3880), ('33X', 3849), ('03X', 3819), ('32X', 3711), ('27X', 3703), ('09X', 3630), ('21Y', 3435), ('32Y', 3125), ('22X', 3061), ('26X', 2978), ('02Y', 2970), ('10X', 2967), ('14X', 2733), ('03Y', 2726), ('22Y', 2664), ('12Y', 2651), ('05X', 2633), ('02X', 2614), ('31X', 2603), ('21X', 2593), ('17Y', 2582), ('24Y', 2575), ('13Z', 2546), ('15X', 2509), ('24X', 2459), ('12X', 2422), ('10Y', 2383), ('01X', 2210), ('28X', 2191), ('17X', 2133), ('11X', 2087), ('13Y', 2017), ('35Y', 1956), ('31Z', 1870), ('18Y', 1778)]\n",
      "Priority\n",
      " [(2.0, 143314), (1.0, 36699), (0.0, 2), ('nan', 1)]\n",
      "Incident Type Id\n",
      " [('933R', 17348), ('911H', 12817), ('SECCK', 11393), ('415', 10752), ('10851', 7180), ('415C', 6624), ('5150', 5031), ('242', 4636), ('912', 4282), ('243E', 4051), ('415GS', 3939), ('949', 3346), ('211', 3148), ('HAZ', 3068), ('602L', 2791), ('WELCK', 2513), ('11500', 2509), ('245', 2373), ('20002', 2233), ('943', 2081), ('901A', 2075), ('647C', 2064), ('415TH', 1983), ('601R', 1901), ('459', 1883), ('CODE7', 1874), ('975', 1834), ('933SA', 1824), ('415N', 1603), ('23103', 1602), ('EVAL', 1547), ('933MA', 1487), ('415CU', 1454), ('415BF', 1394), ('955A', 1301), ('ASSIST', 1191), ('901', 1158), ('929', 1144), ('SUSP', 1097), ('459AU', 1056), ('955', 972), ('953', 944), ('415UG', 908), ('941', 900), ('273_6', 866), ('R10851', 853), ('647B', 839), ('901B', 835), ('597', 835), ('MP', 831)]\n",
      "Incident Type Description\n",
      " [('ALARM-RINGER', 17348), ('911 HANG-UP', 12817), ('SECURITY CHECK', 11393), ('STOLEN VEHICLE', 7180), ('415 UNKNOWN', 6624), ('DISTURBING THE PEACE', 5843), ('MENTALLY ILL', 5031), ('BATTERY', 4636), ('SUSPICIOUS PERSON', 4282), ('BATTERY ON CO-HABITA', 4051), ('415 GUNSHOTS', 3939), ('415 FAMILY', 3595), ('SUSPICIOUS VEHICLE', 3346), ('ROBBERY', 3148), ('HAZARDOUS SITUATION/', 3068), ('TRESPASS:', 2791), ('WELFARE CHECK -- CHE', 2513), ('DRUG DEALING', 2509), ('ASSAULT W/DEADLY WEA', 2373), ('HIT & RUN (PROPERTY', 2233), ('FIGHT', 2081), ('VEHICLE COLLISION-PE', 2075), (\"OBSTRUCT PERSON'S MO\", 2064), ('415 THREATS', 1983), ('RUNAWAY', 1901), ('BURGLARY', 1883), ('SUBJECT ARMED WITH W', 1874), ('STAND BY AND PRESERV', 1834), ('ALARM-SCHOOL ALARM', 1824), ('DISTURBANCE-NEIGHBOR', 1603), ('RECKLESS DRIVING', 1602), ('EVALUATION', 1547), ('ALARM-MANUALLY ACTIV', 1487), ('DISTURBANCE-CUSTOMER', 1454), ('415 BOYFRIEND', 1394), ('DISTURBANCE-DRINKERS', 1314), ('VICIOUS ANIMAL', 1301), ('ASSIST', 1191), ('FIRE', 1144), ('SUSPECT', 1097), ('AUTO BURGLARY--IP', 1056), ('VEHICLE COLLISION/PR', 1024), ('INJURIED ANIMAL', 957), ('INVESTIGATE REPORT O', 944), ('DISTURBANCE-UNWANTED', 908), ('PERSON DETAINED-IN C', 900), ('VIOLATION OF COURT O', 866), ('RECOVERED STOLEN VEH', 853), ('PROSTITUTION/DISORDE', 839), ('VEHICLE COLLISION-UN', 835)]\n",
      "Event Number\n",
      " [('LOP110101000001', 1), ('LOP110101000002', 1), ('LOP110101000003', 1), ('LOP110101000005', 1), ('LOP110101000004', 1), ('LOP110101000006', 1), ('LOP110101000010', 1), ('LOP110101000011', 1), ('LOP110101000014', 1), ('LOP110101000013', 1), ('LOP110101000015', 1), ('LOP110101000018', 1), ('LOP110101000016', 1), ('LOP110101000017', 1), ('LOP110101000020', 1), ('LOP110101000019', 1), ('LOP110101000021', 1), ('LOP110101000024', 1), ('LOP110101000023', 1), ('LOP110101000025', 1), ('LOP110101000027', 1), ('LOP110101000026', 1), ('LOP110101000028', 1), ('LOP110101000031', 1), ('LOP110101000029', 1), ('LOP110101000030', 1), ('LOP110101000032', 1), ('LOP110101000035', 1), ('LOP110101000033', 1), ('LOP110101000039', 1), ('LOP110101000034', 1), ('LOP110101000036', 1), ('LOP110101000038', 1), ('LOP110101000040', 1), ('LOP110101000042', 1), ('LOP110101000043', 1), ('LOP110101000044', 1), ('LOP110101000045', 1), ('LOP110101000048', 1), ('LOP110101000049', 1), ('LOP110101000050', 1), ('LOP110101000053', 1), ('LOP110101000054', 1), ('LOP110101000055', 1), ('LOP110101000062', 1), ('LOP110101000060', 1), ('LOP110101000063', 1), ('LOP110101000064', 1), ('LOP110101000065', 1), ('LOP110101000071', 1)]\n"
     ]
    }
   ],
   "source": [
    "def count(attribute,df):\n",
    "    values = df[attribute]\n",
    "    dic = {}\n",
    "    for index,v in enumerate(values):\n",
    "        if type(v)==str or not np.isnan(v):\n",
    "            dic[v] = dic.get(v,0) + 1\n",
    "        else:\n",
    "            dic['nan'] = dic.get('nan',0) + 1\n",
    "    dic = Counter(dic).most_common(50)#部分属性值类别太多\n",
    "    print('%s\\n'%(attribute),dic) \n",
    "    return dic\n",
    "\n",
    "for attribute in ['Agency','Location','Area Id','Beat','Priority','Incident Type Id','Incident Type Description','Event Number']:\n",
    "    count(attribute,df)"
   ]
  },
  {
   "cell_type": "markdown",
   "id": "47e7d24d",
   "metadata": {},
   "source": [
    "Create Time和Closed Time是本数据集的数值属性，这里将之转化为与2011-01-01 00:00:00的差值（单位：秒），便于进行五数概括"
   ]
  },
  {
   "cell_type": "code",
   "execution_count": 5,
   "id": "56e65ffd",
   "metadata": {
    "scrolled": true
   },
   "outputs": [
    {
     "data": {
      "text/html": [
       "<div>\n",
       "<style scoped>\n",
       "    .dataframe tbody tr th:only-of-type {\n",
       "        vertical-align: middle;\n",
       "    }\n",
       "\n",
       "    .dataframe tbody tr th {\n",
       "        vertical-align: top;\n",
       "    }\n",
       "\n",
       "    .dataframe thead th {\n",
       "        text-align: right;\n",
       "    }\n",
       "</style>\n",
       "<table border=\"1\" class=\"dataframe\">\n",
       "  <thead>\n",
       "    <tr style=\"text-align: right;\">\n",
       "      <th></th>\n",
       "      <th>Agency</th>\n",
       "      <th>Create Time</th>\n",
       "      <th>Location</th>\n",
       "      <th>Area Id</th>\n",
       "      <th>Beat</th>\n",
       "      <th>Priority</th>\n",
       "      <th>Incident Type Id</th>\n",
       "      <th>Incident Type Description</th>\n",
       "      <th>Event Number</th>\n",
       "      <th>Closed Time</th>\n",
       "    </tr>\n",
       "  </thead>\n",
       "  <tbody>\n",
       "    <tr>\n",
       "      <th>0</th>\n",
       "      <td>OP</td>\n",
       "      <td>0.0</td>\n",
       "      <td>ST&amp;SAN PABLO AV</td>\n",
       "      <td>1.0</td>\n",
       "      <td>06X</td>\n",
       "      <td>1.0</td>\n",
       "      <td>PDOA</td>\n",
       "      <td>POSSIBLE DEAD PERSON</td>\n",
       "      <td>LOP110101000001</td>\n",
       "      <td>1697.0</td>\n",
       "    </tr>\n",
       "    <tr>\n",
       "      <th>1</th>\n",
       "      <td>OP</td>\n",
       "      <td>71.0</td>\n",
       "      <td>ST&amp;HANNAH ST</td>\n",
       "      <td>1.0</td>\n",
       "      <td>07X</td>\n",
       "      <td>1.0</td>\n",
       "      <td>415GS</td>\n",
       "      <td>415 GUNSHOTS</td>\n",
       "      <td>LOP110101000002</td>\n",
       "      <td>4376.0</td>\n",
       "    </tr>\n",
       "    <tr>\n",
       "      <th>2</th>\n",
       "      <td>OP</td>\n",
       "      <td>85.0</td>\n",
       "      <td>ST&amp;MARKET ST</td>\n",
       "      <td>1.0</td>\n",
       "      <td>10Y</td>\n",
       "      <td>2.0</td>\n",
       "      <td>415GS</td>\n",
       "      <td>415 GUNSHOTS</td>\n",
       "      <td>LOP110101000003</td>\n",
       "      <td>440.0</td>\n",
       "    </tr>\n",
       "    <tr>\n",
       "      <th>3</th>\n",
       "      <td>OP</td>\n",
       "      <td>95.0</td>\n",
       "      <td>PRENTISS ST</td>\n",
       "      <td>2.0</td>\n",
       "      <td>21Y</td>\n",
       "      <td>2.0</td>\n",
       "      <td>415GS</td>\n",
       "      <td>415 GUNSHOTS</td>\n",
       "      <td>LOP110101000005</td>\n",
       "      <td>148.0</td>\n",
       "    </tr>\n",
       "    <tr>\n",
       "      <th>4</th>\n",
       "      <td>OP</td>\n",
       "      <td>130.0</td>\n",
       "      <td>AV&amp;FOOTHILL BLVD</td>\n",
       "      <td>2.0</td>\n",
       "      <td>20X</td>\n",
       "      <td>1.0</td>\n",
       "      <td>415GS</td>\n",
       "      <td>415 GUNSHOTS</td>\n",
       "      <td>LOP110101000004</td>\n",
       "      <td>3004.0</td>\n",
       "    </tr>\n",
       "  </tbody>\n",
       "</table>\n",
       "</div>"
      ],
      "text/plain": [
       "  Agency  Create Time            Location  Area Id Beat  Priority  \\\n",
       "0     OP          0.0     ST&SAN PABLO AV      1.0  06X       1.0   \n",
       "1     OP         71.0       ST&HANNAH ST       1.0  07X       1.0   \n",
       "2     OP         85.0       ST&MARKET ST       1.0  10Y       2.0   \n",
       "3     OP         95.0        PRENTISS ST       2.0  21Y       2.0   \n",
       "4     OP        130.0   AV&FOOTHILL BLVD       2.0  20X       1.0   \n",
       "\n",
       "  Incident Type Id Incident Type Description     Event Number  Closed Time  \n",
       "0             PDOA      POSSIBLE DEAD PERSON  LOP110101000001       1697.0  \n",
       "1            415GS              415 GUNSHOTS  LOP110101000002       4376.0  \n",
       "2            415GS              415 GUNSHOTS  LOP110101000003        440.0  \n",
       "3            415GS              415 GUNSHOTS  LOP110101000005        148.0  \n",
       "4            415GS              415 GUNSHOTS  LOP110101000004       3004.0  "
      ]
     },
     "execution_count": 5,
     "metadata": {},
     "output_type": "execute_result"
    }
   ],
   "source": [
    "df1 = df.copy()\n",
    "df1['Create Time'] =  (pd.to_datetime(df1['Create Time'], format='%Y-%m-%dT%H:%M:%S')-pd.to_datetime('2011-01-01T00:00:00', format='%Y-%m-%dT%H:%M:%S')).dt.total_seconds()\n",
    "df1['Closed Time'] =  (pd.to_datetime(df1['Closed Time'], format='%Y-%m-%dT%H:%M:%S')-pd.to_datetime('2011-01-01T00:00:00', format='%Y-%m-%dT%H:%M:%S')).dt.total_seconds()\n",
    "df1.head()"
   ]
  },
  {
   "cell_type": "markdown",
   "id": "ab998bc7",
   "metadata": {},
   "source": [
    "对数值属性进行五数概括，并统计缺失值数量"
   ]
  },
  {
   "cell_type": "code",
   "execution_count": 6,
   "id": "3f9cad4b",
   "metadata": {},
   "outputs": [
    {
     "name": "stdout",
     "output_type": "stream",
     "text": [
      "count    1.800150e+05\n",
      "mean     1.580284e+07\n",
      "std      8.954285e+06\n",
      "min      0.000000e+00\n",
      "25%      8.154167e+06\n",
      "50%      1.587084e+07\n",
      "75%      2.340503e+07\n",
      "max      3.153589e+07\n",
      "Name: Create Time, dtype: float64\n",
      "缺失值的个数：1\n",
      "\n",
      "count    1.800090e+05\n",
      "mean     1.581037e+07\n",
      "std      8.955266e+06\n",
      "min      1.480000e+02\n",
      "25%      8.160001e+06\n",
      "50%      1.587613e+07\n",
      "75%      2.341404e+07\n",
      "max      3.309569e+07\n",
      "Name: Closed Time, dtype: float64\n",
      "缺失值的个数：7\n",
      "\n"
     ]
    }
   ],
   "source": [
    "def describe(attribute,df):\n",
    "    values = df[attribute]\n",
    "    print(values.describe())\n",
    "\n",
    "for attribute in ['Create Time','Closed Time']:\n",
    "    describe(attribute,df1)\n",
    "    print('缺失值的个数：%d\\n'% df1[attribute].isnull().sum())"
   ]
  },
  {
   "cell_type": "markdown",
   "id": "7bc33654",
   "metadata": {},
   "source": [
    "#### 1.2数据可视化\n",
    "对数值属性绘制直方图和盒图（因为不去掉NAN无法绘制图形，所以绘制时需要忽略NAN）\n",
    "\n",
    "其中直方图为按月份的数据数量分布"
   ]
  },
  {
   "cell_type": "code",
   "execution_count": 7,
   "id": "eae21fcf",
   "metadata": {},
   "outputs": [
    {
     "name": "stdout",
     "output_type": "stream",
     "text": [
      "Create Time :\n"
     ]
    },
    {
     "data": {
      "image/png": "[encoded data removed]",
      "text/plain": [
       "<Figure size 432x288 with 1 Axes>"
      ]
     },
     "metadata": {
      "needs_background": "light"
     },
     "output_type": "display_data"
    },
    {
     "name": "stdout",
     "output_type": "stream",
     "text": [
      "Closed Time :\n"
     ]
    },
    {
     "data": {
      "image/png": "[encoded data removed]",
      "text/plain": [
       "<Figure size 432x288 with 1 Axes>"
      ]
     },
     "metadata": {
      "needs_background": "light"
     },
     "output_type": "display_data"
    }
   ],
   "source": [
    "def autolabel(rects):\n",
    "    for rect in rects:\n",
    "        height = rect.get_height()\n",
    "        plt.text(rect.get_x()+rect.get_width()/2.- 0.3, 1.01*height, '%s' % int(height))\n",
    "\n",
    "x = [str(i)+'月' for i in range(1,13)]\n",
    "x.append('非2011年')\n",
    "d = [31,28,31,30,31,30,31,31,30,31,30,31]\n",
    "x_end = [pd.to_datetime('2011-'+str(i+1)+'-'+str(d[i])+'T23:59:59',format='%Y-%m-%dT%H:%M:%S') for i in range(12)]\n",
    "time = [(x_end[i]-pd.to_datetime('2011-01-01T00:00:00', format='%Y-%m-%dT%H:%M:%S')).total_seconds() for i in range(12)]\n",
    "y = [0]*13\n",
    "\n",
    "\n",
    "for attribute in ['Create Time','Closed Time']:\n",
    "    values = df1[attribute]\n",
    "    print(attribute,':')\n",
    "    for i in range(12):\n",
    "        y[i] = (values < time[i] ).sum()\n",
    "        #print(y[i])\n",
    "    else:\n",
    "        y[i+1] = (values > time[11] ).sum()\n",
    "        #print(y[i])\n",
    "    #print(y)\n",
    "    for i in range(11):\n",
    "        y[11-i] -= y[11-i-1]\n",
    "    #print(y)\n",
    "    autolabel(plt.bar(range(len(y)),y,tick_label=x))\n",
    "    plt.ylabel('数量')\n",
    "    plt.show()"
   ]
  },
  {
   "cell_type": "markdown",
   "id": "137a268f",
   "metadata": {},
   "source": [
    "绘制盒图"
   ]
  },
  {
   "cell_type": "code",
   "execution_count": 8,
   "id": "673fe23e",
   "metadata": {},
   "outputs": [
    {
     "data": {
      "image/png": "[encoded data removed]",
      "text/plain": [
       "<Figure size 432x288 with 1 Axes>"
      ]
     },
     "metadata": {
      "needs_background": "light"
     },
     "output_type": "display_data"
    },
    {
     "data": {
      "image/png": "[encoded data removed]",
      "text/plain": [
       "<Figure size 432x288 with 1 Axes>"
      ]
     },
     "metadata": {
      "needs_background": "light"
     },
     "output_type": "display_data"
    }
   ],
   "source": [
    "def draw_Box_plot(data,title=None,ylabel=None):\n",
    "    plt.boxplot(data)\n",
    "    plt.ylabel(ylabel)\n",
    "    plt.title(title)\n",
    "    plt.show()\n",
    "for attribute in ['Create Time','Closed Time']:\n",
    "    draw_Box_plot(df1[attribute].dropna(),title=attribute,ylabel='time')"
   ]
  },
  {
   "cell_type": "markdown",
   "id": "e548c8ff",
   "metadata": {},
   "source": [
    "### 2.数据缺失的处理\n",
    "\n",
    "#### 2.1剔除缺失部分\n",
    "对于Event Number为空的数据，将之删去"
   ]
  },
  {
   "cell_type": "code",
   "execution_count": 9,
   "id": "0aa190e7",
   "metadata": {},
   "outputs": [
    {
     "name": "stdout",
     "output_type": "stream",
     "text": [
      "<class 'pandas.core.frame.DataFrame'>\n",
      "Int64Index: 180015 entries, 0 to 180014\n",
      "Data columns (total 10 columns):\n",
      " #   Column                     Non-Null Count   Dtype  \n",
      "---  ------                     --------------   -----  \n",
      " 0   Agency                     180015 non-null  object \n",
      " 1   Create Time                180015 non-null  float64\n",
      " 2   Location                   180015 non-null  object \n",
      " 3   Area Id                    179112 non-null  float64\n",
      " 4   Beat                       179496 non-null  object \n",
      " 5   Priority                   180015 non-null  float64\n",
      " 6   Incident Type Id           180015 non-null  object \n",
      " 7   Incident Type Description  180015 non-null  object \n",
      " 8   Event Number               180015 non-null  object \n",
      " 9   Closed Time                180009 non-null  float64\n",
      "dtypes: float64(4), object(6)\n",
      "memory usage: 15.1+ MB\n"
     ]
    }
   ],
   "source": [
    "df2 = df1.copy()\n",
    "df2 = df2.dropna(subset=['Event Number'])\n",
    "df2.info()"
   ]
  },
  {
   "cell_type": "markdown",
   "id": "4f471a9d",
   "metadata": {},
   "source": [
    "#### 2.2用最高频率值填补缺失值\n",
    "对于Area Id和Beat，采用最高频率值进行填充"
   ]
  },
  {
   "cell_type": "code",
   "execution_count": 10,
   "id": "bd6b81c0",
   "metadata": {},
   "outputs": [
    {
     "name": "stdout",
     "output_type": "stream",
     "text": [
      "<class 'pandas.core.frame.DataFrame'>\n",
      "Int64Index: 180015 entries, 0 to 180014\n",
      "Data columns (total 10 columns):\n",
      " #   Column                     Non-Null Count   Dtype  \n",
      "---  ------                     --------------   -----  \n",
      " 0   Agency                     180015 non-null  object \n",
      " 1   Create Time                180015 non-null  float64\n",
      " 2   Location                   180015 non-null  object \n",
      " 3   Area Id                    180015 non-null  float64\n",
      " 4   Beat                       180015 non-null  object \n",
      " 5   Priority                   180015 non-null  float64\n",
      " 6   Incident Type Id           180015 non-null  object \n",
      " 7   Incident Type Description  180015 non-null  object \n",
      " 8   Event Number               180015 non-null  object \n",
      " 9   Closed Time                180009 non-null  float64\n",
      "dtypes: float64(4), object(6)\n",
      "memory usage: 15.1+ MB\n"
     ]
    }
   ],
   "source": [
    "for attribute in ['Area Id','Beat']:\n",
    "    df2[attribute] = df2[attribute].fillna(df2[attribute].mode()[0])\n",
    "df2.info()"
   ]
  },
  {
   "cell_type": "markdown",
   "id": "e4933e8e",
   "metadata": {},
   "source": [
    "#### 2.3通过属性的相关关系来填补缺失值\n",
    "对于Create Time和Closed Time，二者正相关，可以计算二者差值的平均值，加上Create Time的时间，作为Closed Time的时间"
   ]
  },
  {
   "cell_type": "code",
   "execution_count": 11,
   "id": "b6e0be82",
   "metadata": {},
   "outputs": [
    {
     "data": {
      "text/html": [
       "<div>\n",
       "<style scoped>\n",
       "    .dataframe tbody tr th:only-of-type {\n",
       "        vertical-align: middle;\n",
       "    }\n",
       "\n",
       "    .dataframe tbody tr th {\n",
       "        vertical-align: top;\n",
       "    }\n",
       "\n",
       "    .dataframe thead th {\n",
       "        text-align: right;\n",
       "    }\n",
       "</style>\n",
       "<table border=\"1\" class=\"dataframe\">\n",
       "  <thead>\n",
       "    <tr style=\"text-align: right;\">\n",
       "      <th></th>\n",
       "      <th>Create Time</th>\n",
       "      <th>Area Id</th>\n",
       "      <th>Priority</th>\n",
       "      <th>Closed Time</th>\n",
       "    </tr>\n",
       "  </thead>\n",
       "  <tbody>\n",
       "    <tr>\n",
       "      <th>Create Time</th>\n",
       "      <td>1.000000</td>\n",
       "      <td>-0.306732</td>\n",
       "      <td>-0.023756</td>\n",
       "      <td>0.999983</td>\n",
       "    </tr>\n",
       "    <tr>\n",
       "      <th>Area Id</th>\n",
       "      <td>-0.306732</td>\n",
       "      <td>1.000000</td>\n",
       "      <td>-0.025422</td>\n",
       "      <td>-0.306700</td>\n",
       "    </tr>\n",
       "    <tr>\n",
       "      <th>Priority</th>\n",
       "      <td>-0.023756</td>\n",
       "      <td>-0.025422</td>\n",
       "      <td>1.000000</td>\n",
       "      <td>-0.023764</td>\n",
       "    </tr>\n",
       "    <tr>\n",
       "      <th>Closed Time</th>\n",
       "      <td>0.999983</td>\n",
       "      <td>-0.306700</td>\n",
       "      <td>-0.023764</td>\n",
       "      <td>1.000000</td>\n",
       "    </tr>\n",
       "  </tbody>\n",
       "</table>\n",
       "</div>"
      ],
      "text/plain": [
       "             Create Time   Area Id  Priority  Closed Time\n",
       "Create Time     1.000000 -0.306732 -0.023756     0.999983\n",
       "Area Id        -0.306732  1.000000 -0.025422    -0.306700\n",
       "Priority       -0.023756 -0.025422  1.000000    -0.023764\n",
       "Closed Time     0.999983 -0.306700 -0.023764     1.000000"
      ]
     },
     "execution_count": 11,
     "metadata": {},
     "output_type": "execute_result"
    }
   ],
   "source": [
    "df2.corr() #计算数据type为数值的属性相关关系"
   ]
  },
  {
   "cell_type": "code",
   "execution_count": 12,
   "id": "3bf46758",
   "metadata": {},
   "outputs": [
    {
     "data": {
      "text/html": [
       "<div>\n",
       "<style scoped>\n",
       "    .dataframe tbody tr th:only-of-type {\n",
       "        vertical-align: middle;\n",
       "    }\n",
       "\n",
       "    .dataframe tbody tr th {\n",
       "        vertical-align: top;\n",
       "    }\n",
       "\n",
       "    .dataframe thead th {\n",
       "        text-align: right;\n",
       "    }\n",
       "</style>\n",
       "<table border=\"1\" class=\"dataframe\">\n",
       "  <thead>\n",
       "    <tr style=\"text-align: right;\">\n",
       "      <th></th>\n",
       "      <th>Agency</th>\n",
       "      <th>Create Time</th>\n",
       "      <th>Location</th>\n",
       "      <th>Area Id</th>\n",
       "      <th>Beat</th>\n",
       "      <th>Priority</th>\n",
       "      <th>Incident Type Id</th>\n",
       "      <th>Incident Type Description</th>\n",
       "      <th>Event Number</th>\n",
       "      <th>Closed Time</th>\n",
       "    </tr>\n",
       "  </thead>\n",
       "  <tbody>\n",
       "    <tr>\n",
       "      <th>153870</th>\n",
       "      <td>OP</td>\n",
       "      <td>26697042.0</td>\n",
       "      <td>47TH EMBARCADERO WEST</td>\n",
       "      <td>1.0</td>\n",
       "      <td>01X</td>\n",
       "      <td>2.0</td>\n",
       "      <td>415</td>\n",
       "      <td>DISTURBANCE-DRINKERS</td>\n",
       "      <td>LOP111105000928</td>\n",
       "      <td>NaN</td>\n",
       "    </tr>\n",
       "    <tr>\n",
       "      <th>153890</th>\n",
       "      <td>OP</td>\n",
       "      <td>26700683.0</td>\n",
       "      <td>47TH OAK GROVE AV</td>\n",
       "      <td>1.0</td>\n",
       "      <td>12Y</td>\n",
       "      <td>2.0</td>\n",
       "      <td>SECCK</td>\n",
       "      <td>SECURITY CHECK</td>\n",
       "      <td>LOP111106000032</td>\n",
       "      <td>NaN</td>\n",
       "    </tr>\n",
       "    <tr>\n",
       "      <th>153903</th>\n",
       "      <td>OP</td>\n",
       "      <td>26702627.0</td>\n",
       "      <td>47TH AV&amp;SANFORD ST</td>\n",
       "      <td>2.0</td>\n",
       "      <td>35Y</td>\n",
       "      <td>1.0</td>\n",
       "      <td>949</td>\n",
       "      <td>SUSPICIOUS VEHICLE</td>\n",
       "      <td>LOP111106000048</td>\n",
       "      <td>NaN</td>\n",
       "    </tr>\n",
       "    <tr>\n",
       "      <th>153906</th>\n",
       "      <td>OP</td>\n",
       "      <td>26703272.0</td>\n",
       "      <td>47TH GRAND AV</td>\n",
       "      <td>1.0</td>\n",
       "      <td>14Y</td>\n",
       "      <td>1.0</td>\n",
       "      <td>242</td>\n",
       "      <td>BATTERY</td>\n",
       "      <td>LOP111106000050</td>\n",
       "      <td>NaN</td>\n",
       "    </tr>\n",
       "    <tr>\n",
       "      <th>153908</th>\n",
       "      <td>OP</td>\n",
       "      <td>26703413.0</td>\n",
       "      <td>47TH ST&amp;WOOD ST</td>\n",
       "      <td>1.0</td>\n",
       "      <td>02Y</td>\n",
       "      <td>1.0</td>\n",
       "      <td>5150</td>\n",
       "      <td>MENTALLY ILL</td>\n",
       "      <td>LOP111106000052</td>\n",
       "      <td>NaN</td>\n",
       "    </tr>\n",
       "    <tr>\n",
       "      <th>153911</th>\n",
       "      <td>OP</td>\n",
       "      <td>26704605.0</td>\n",
       "      <td>47TH ST&amp;BROADWAY</td>\n",
       "      <td>1.0</td>\n",
       "      <td>08X</td>\n",
       "      <td>2.0</td>\n",
       "      <td>SECCK</td>\n",
       "      <td>SECURITY CHECK</td>\n",
       "      <td>LOP111106000056</td>\n",
       "      <td>NaN</td>\n",
       "    </tr>\n",
       "  </tbody>\n",
       "</table>\n",
       "</div>"
      ],
      "text/plain": [
       "       Agency  Create Time                Location  Area Id Beat  Priority  \\\n",
       "153870     OP   26697042.0  47TH EMBARCADERO WEST       1.0  01X       2.0   \n",
       "153890     OP   26700683.0       47TH OAK GROVE AV      1.0  12Y       2.0   \n",
       "153903     OP   26702627.0     47TH AV&SANFORD ST       2.0  35Y       1.0   \n",
       "153906     OP   26703272.0          47TH GRAND AV       1.0  14Y       1.0   \n",
       "153908     OP   26703413.0        47TH ST&WOOD ST       1.0  02Y       1.0   \n",
       "153911     OP   26704605.0      47TH ST&BROADWAY        1.0  08X       2.0   \n",
       "\n",
       "       Incident Type Id Incident Type Description     Event Number  \\\n",
       "153870              415      DISTURBANCE-DRINKERS  LOP111105000928   \n",
       "153890            SECCK            SECURITY CHECK  LOP111106000032   \n",
       "153903              949        SUSPICIOUS VEHICLE  LOP111106000048   \n",
       "153906              242                   BATTERY  LOP111106000050   \n",
       "153908             5150              MENTALLY ILL  LOP111106000052   \n",
       "153911            SECCK            SECURITY CHECK  LOP111106000056   \n",
       "\n",
       "        Closed Time  \n",
       "153870          NaN  \n",
       "153890          NaN  \n",
       "153903          NaN  \n",
       "153906          NaN  \n",
       "153908          NaN  \n",
       "153911          NaN  "
      ]
     },
     "execution_count": 12,
     "metadata": {},
     "output_type": "execute_result"
    }
   ],
   "source": [
    "df3 = df2[df2['Closed Time'].isnull()]\n",
    "df3"
   ]
  },
  {
   "cell_type": "code",
   "execution_count": 13,
   "id": "618616fd",
   "metadata": {},
   "outputs": [
    {
     "name": "stdout",
     "output_type": "stream",
     "text": [
      "       Agency  Create Time                Location  Area Id Beat  Priority  \\\n",
      "153870     OP   26697042.0  47TH EMBARCADERO WEST       1.0  01X       2.0   \n",
      "153890     OP   26700683.0       47TH OAK GROVE AV      1.0  12Y       2.0   \n",
      "153903     OP   26702627.0     47TH AV&SANFORD ST       2.0  35Y       1.0   \n",
      "153906     OP   26703272.0          47TH GRAND AV       1.0  14Y       1.0   \n",
      "153908     OP   26703413.0        47TH ST&WOOD ST       1.0  02Y       1.0   \n",
      "153911     OP   26704605.0      47TH ST&BROADWAY        1.0  08X       2.0   \n",
      "\n",
      "       Incident Type Id Incident Type Description     Event Number  \\\n",
      "153870              415      DISTURBANCE-DRINKERS  LOP111105000928   \n",
      "153890            SECCK            SECURITY CHECK  LOP111106000032   \n",
      "153903              949        SUSPICIOUS VEHICLE  LOP111106000048   \n",
      "153906              242                   BATTERY  LOP111106000050   \n",
      "153908             5150              MENTALLY ILL  LOP111106000052   \n",
      "153911            SECCK            SECURITY CHECK  LOP111106000056   \n",
      "\n",
      "         Closed Time  \n",
      "153870  2.670494e+07  \n",
      "153890  2.670858e+07  \n",
      "153903  2.671052e+07  \n",
      "153906  2.671117e+07  \n",
      "153908  2.671131e+07  \n",
      "153911  2.671250e+07  \n",
      "<class 'pandas.core.frame.DataFrame'>\n",
      "Int64Index: 180015 entries, 0 to 180014\n",
      "Data columns (total 10 columns):\n",
      " #   Column                     Non-Null Count   Dtype  \n",
      "---  ------                     --------------   -----  \n",
      " 0   Agency                     180015 non-null  object \n",
      " 1   Create Time                180015 non-null  float64\n",
      " 2   Location                   180015 non-null  object \n",
      " 3   Area Id                    180015 non-null  float64\n",
      " 4   Beat                       180015 non-null  object \n",
      " 5   Priority                   180015 non-null  float64\n",
      " 6   Incident Type Id           180015 non-null  object \n",
      " 7   Incident Type Description  180015 non-null  object \n",
      " 8   Event Number               180015 non-null  object \n",
      " 9   Closed Time                180015 non-null  float64\n",
      "dtypes: float64(4), object(6)\n",
      "memory usage: 15.1+ MB\n"
     ]
    }
   ],
   "source": [
    "df2['Closed Time'] = df2['Closed Time'].fillna(df3['Create Time'] + np.mean(df2['Closed Time']-df2['Create Time']))\n",
    "print(df2[df2['Event Number'].isin(df3['Event Number'])])\n",
    "df2.info()"
   ]
  },
  {
   "cell_type": "markdown",
   "id": "aeb86977",
   "metadata": {},
   "source": [
    "#### 2.4通过数据对象之间的相似性来填补缺失值\n",
    "对于Agency，数据中只有OP，空缺值填为OP;Incident Type Id 和 Incident Type Description 是一一对应的,可以互相填充  \n",
    "不过由于已经没有空缺值，本部分数据处理结束。"
   ]
  },
  {
   "cell_type": "markdown",
   "id": "568d6841",
   "metadata": {},
   "source": [
    "### 3.新旧数据对比"
   ]
  },
  {
   "cell_type": "code",
   "execution_count": 14,
   "id": "095b0174",
   "metadata": {},
   "outputs": [
    {
     "name": "stdout",
     "output_type": "stream",
     "text": [
      "<class 'pandas.core.frame.DataFrame'>\n",
      "Int64Index: 180015 entries, 0 to 180014\n",
      "Data columns (total 10 columns):\n",
      " #   Column                     Non-Null Count   Dtype  \n",
      "---  ------                     --------------   -----  \n",
      " 0   Agency                     180015 non-null  object \n",
      " 1   Create Time                180015 non-null  float64\n",
      " 2   Location                   180015 non-null  object \n",
      " 3   Area Id                    180015 non-null  float64\n",
      " 4   Beat                       180015 non-null  object \n",
      " 5   Priority                   180015 non-null  float64\n",
      " 6   Incident Type Id           180015 non-null  object \n",
      " 7   Incident Type Description  180015 non-null  object \n",
      " 8   Event Number               180015 non-null  object \n",
      " 9   Closed Time                180015 non-null  float64\n",
      "dtypes: float64(4), object(6)\n",
      "memory usage: 15.1+ MB\n",
      "<class 'pandas.core.frame.DataFrame'>\n",
      "RangeIndex: 180016 entries, 0 to 180015\n",
      "Data columns (total 10 columns):\n",
      " #   Column                     Non-Null Count   Dtype  \n",
      "---  ------                     --------------   -----  \n",
      " 0   Agency                     180015 non-null  object \n",
      " 1   Create Time                180015 non-null  float64\n",
      " 2   Location                   180016 non-null  object \n",
      " 3   Area Id                    179112 non-null  float64\n",
      " 4   Beat                       179496 non-null  object \n",
      " 5   Priority                   180015 non-null  float64\n",
      " 6   Incident Type Id           180015 non-null  object \n",
      " 7   Incident Type Description  180015 non-null  object \n",
      " 8   Event Number               180015 non-null  object \n",
      " 9   Closed Time                180009 non-null  float64\n",
      "dtypes: float64(4), object(6)\n",
      "memory usage: 13.7+ MB\n"
     ]
    },
    {
     "data": {
      "text/plain": [
       "(None, None)"
      ]
     },
     "execution_count": 14,
     "metadata": {},
     "output_type": "execute_result"
    }
   ],
   "source": [
    "df2.info(),df1.info()"
   ]
  }
 ],
 "metadata": {
  "kernelspec": {
   "display_name": "Python 3",
   "language": "python",
   "name": "python3"
  },
  "language_info": {
   "codemirror_mode": {
    "name": "ipython",
    "version": 3
   },
   "file_extension": ".py",
   "mimetype": "text/x-python",
   "name": "python",
   "nbconvert_exporter": "python",
   "pygments_lexer": "ipython3",
   "version": "3.7.10"
  }
 },
 "nbformat": 4,
 "nbformat_minor": 5
}
